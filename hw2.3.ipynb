{
 "cells": [
  {
   "cell_type": "code",
   "execution_count": 2,
   "id": "5461fd6f-05eb-4f96-8d68-9845b1a815f7",
   "metadata": {},
   "outputs": [],
   "source": [
    "%matplotlib inline\n",
    "\n",
    "import numpy as np\n",
    "import pandas as pd\n",
    "import matplotlib.pyplot as plt\n",
    "import seaborn as sns"
   ]
  },
  {
   "cell_type": "code",
   "execution_count": 9,
   "id": "0d629789-1cc8-4237-8a47-3727384eb6c0",
   "metadata": {},
   "outputs": [],
   "source": [
    "# P3 T1.1 Прочитайте csv файл (використовуйте функцію read_csv)\n",
    "table = pd.read_csv(\"bestsellers_with_categories.csv\")"
   ]
  },
  {
   "cell_type": "code",
   "execution_count": 8,
   "id": "9a1c9b31-db51-4e08-89b7-f0a19004e15a",
   "metadata": {},
   "outputs": [
    {
     "data": {
      "text/html": [
       "<div>\n",
       "<style scoped>\n",
       "    .dataframe tbody tr th:only-of-type {\n",
       "        vertical-align: middle;\n",
       "    }\n",
       "\n",
       "    .dataframe tbody tr th {\n",
       "        vertical-align: top;\n",
       "    }\n",
       "\n",
       "    .dataframe thead th {\n",
       "        text-align: right;\n",
       "    }\n",
       "</style>\n",
       "<table border=\"1\" class=\"dataframe\">\n",
       "  <thead>\n",
       "    <tr style=\"text-align: right;\">\n",
       "      <th></th>\n",
       "      <th>Name</th>\n",
       "      <th>Author</th>\n",
       "      <th>User Rating</th>\n",
       "      <th>Reviews</th>\n",
       "      <th>Price</th>\n",
       "      <th>Year</th>\n",
       "      <th>Genre</th>\n",
       "    </tr>\n",
       "  </thead>\n",
       "  <tbody>\n",
       "    <tr>\n",
       "      <th>0</th>\n",
       "      <td>10-Day Green Smoothie Cleanse</td>\n",
       "      <td>JJ Smith</td>\n",
       "      <td>4.7</td>\n",
       "      <td>17350</td>\n",
       "      <td>8</td>\n",
       "      <td>2016</td>\n",
       "      <td>Non Fiction</td>\n",
       "    </tr>\n",
       "    <tr>\n",
       "      <th>1</th>\n",
       "      <td>11/22/63: A Novel</td>\n",
       "      <td>Stephen King</td>\n",
       "      <td>4.6</td>\n",
       "      <td>2052</td>\n",
       "      <td>22</td>\n",
       "      <td>2011</td>\n",
       "      <td>Fiction</td>\n",
       "    </tr>\n",
       "    <tr>\n",
       "      <th>2</th>\n",
       "      <td>12 Rules for Life: An Antidote to Chaos</td>\n",
       "      <td>Jordan B. Peterson</td>\n",
       "      <td>4.7</td>\n",
       "      <td>18979</td>\n",
       "      <td>15</td>\n",
       "      <td>2018</td>\n",
       "      <td>Non Fiction</td>\n",
       "    </tr>\n",
       "    <tr>\n",
       "      <th>3</th>\n",
       "      <td>1984 (Signet Classics)</td>\n",
       "      <td>George Orwell</td>\n",
       "      <td>4.7</td>\n",
       "      <td>21424</td>\n",
       "      <td>6</td>\n",
       "      <td>2017</td>\n",
       "      <td>Fiction</td>\n",
       "    </tr>\n",
       "    <tr>\n",
       "      <th>4</th>\n",
       "      <td>5,000 Awesome Facts (About Everything!) (Natio...</td>\n",
       "      <td>National Geographic Kids</td>\n",
       "      <td>4.8</td>\n",
       "      <td>7665</td>\n",
       "      <td>12</td>\n",
       "      <td>2019</td>\n",
       "      <td>Non Fiction</td>\n",
       "    </tr>\n",
       "  </tbody>\n",
       "</table>\n",
       "</div>"
      ],
      "text/plain": [
       "                                                Name  \\\n",
       "0                      10-Day Green Smoothie Cleanse   \n",
       "1                                  11/22/63: A Novel   \n",
       "2            12 Rules for Life: An Antidote to Chaos   \n",
       "3                             1984 (Signet Classics)   \n",
       "4  5,000 Awesome Facts (About Everything!) (Natio...   \n",
       "\n",
       "                     Author  User Rating  Reviews  Price  Year        Genre  \n",
       "0                  JJ Smith          4.7    17350      8  2016  Non Fiction  \n",
       "1              Stephen King          4.6     2052     22  2011      Fiction  \n",
       "2        Jordan B. Peterson          4.7    18979     15  2018  Non Fiction  \n",
       "3             George Orwell          4.7    21424      6  2017      Fiction  \n",
       "4  National Geographic Kids          4.8     7665     12  2019  Non Fiction  "
      ]
     },
     "execution_count": 8,
     "metadata": {},
     "output_type": "execute_result"
    }
   ],
   "source": [
    "# P3 T1.2 Виведіть перші п'ять рядків (використовується функція head)\n",
    "table.head()"
   ]
  },
  {
   "cell_type": "code",
   "execution_count": 17,
   "id": "d1da0089-8b82-4391-bad9-5c3ad8148e35",
   "metadata": {},
   "outputs": [
    {
     "data": {
      "text/plain": [
       "(550, 7)"
      ]
     },
     "execution_count": 17,
     "metadata": {},
     "output_type": "execute_result"
    }
   ],
   "source": [
    "# P3 T1.3 Виведіть розміри датасету (використовуйте атрибут shape)\n",
    "table.shape"
   ]
  },
  {
   "cell_type": "code",
   "execution_count": 18,
   "id": "daff7d99-1fed-4e71-b7db-d07774d96e2d",
   "metadata": {},
   "outputs": [
    {
     "name": "stdout",
     "output_type": "stream",
     "text": [
      "Відповідь: 550 книг\n"
     ]
    }
   ],
   "source": [
    "# P3 T1.4 Про скільки книг зберігає дані датасет?\n",
    "print(\"Відповідь: 550 книг\")"
   ]
  },
  {
   "cell_type": "code",
   "execution_count": 20,
   "id": "b0eba0a6-6b33-4aa6-babd-e55677c61f68",
   "metadata": {},
   "outputs": [],
   "source": [
    "# P3 T1.5 Зніма назв колонок\n",
    "table.columns = ['name', 'author', 'user_rating', 'reviews', 'price', 'year', 'genre']\n",
    "# table.head()"
   ]
  },
  {
   "cell_type": "code",
   "execution_count": 22,
   "id": "adc4cb09-f8cc-4218-be5d-622c282be28a",
   "metadata": {},
   "outputs": [
    {
     "data": {
      "text/plain": [
       "name           0.0\n",
       "author         0.0\n",
       "user_rating    0.0\n",
       "reviews        0.0\n",
       "price          0.0\n",
       "year           0.0\n",
       "genre          0.0\n",
       "dtype: float64"
      ]
     },
     "execution_count": 22,
     "metadata": {},
     "output_type": "execute_result"
    }
   ],
   "source": [
    "# P3. Первинне дослідження даних \n",
    "# T1. Перевірте, чи у всіх рядків вистачає даних: виведіть кількість пропусків (na) у кожному зі стовпців (використовуйте функції isna та sum)\n",
    "table.isnull().sum()/table.shape[0]"
   ]
  },
  {
   "cell_type": "code",
   "execution_count": 23,
   "id": "21ae5495-2cb3-4ea4-9ac9-27d17eda82d3",
   "metadata": {},
   "outputs": [
    {
     "name": "stdout",
     "output_type": "stream",
     "text": [
      "Відповідь: Ні\n"
     ]
    }
   ],
   "source": [
    "# P3. Первинне дослідження даних \n",
    "# T2. Чи є в якихось змінних пропуски?\n",
    "print(\"Відповідь: Ні\")"
   ]
  },
  {
   "cell_type": "code",
   "execution_count": 24,
   "id": "be46673e-1d51-40bc-a922-531e3d040507",
   "metadata": {},
   "outputs": [
    {
     "data": {
      "text/plain": [
       "array(['Non Fiction', 'Fiction'], dtype=object)"
      ]
     },
     "execution_count": 24,
     "metadata": {},
     "output_type": "execute_result"
    }
   ],
   "source": [
    "# P3. Первинне дослідження даних \n",
    "# T3. Перевірте, які є унікальні значення в колонці genre (використовуйте функцію unique)\n",
    "table[\"genre\"].unique()"
   ]
  },
  {
   "cell_type": "code",
   "execution_count": 25,
   "id": "6c824493-5a38-4e4a-948b-6fd6e5659946",
   "metadata": {},
   "outputs": [
    {
     "name": "stdout",
     "output_type": "stream",
     "text": [
      "Відповідь: 'Non Fiction', 'Fiction'\n"
     ]
    }
   ],
   "source": [
    "# P3. Первинне дослідження даних \n",
    "# T4. Які є унікальні жанри?\n",
    "print(\"Відповідь: 'Non Fiction', 'Fiction'\")"
   ]
  },
  {
   "cell_type": "code",
   "execution_count": null,
   "id": "d8391a9e-4c79-4f1c-af13-f481339dc93d",
   "metadata": {},
   "outputs": [],
   "source": [
    "# P3. Первинне дослідження даних \n",
    "# T5. Тепер подивіться на розподіл цін: побудуйте діаграму (використовуйте kind='hist')"
   ]
  },
  {
   "cell_type": "code",
   "execution_count": null,
   "id": "f6a9721f-2a7c-4a56-be4a-369f3e057691",
   "metadata": {},
   "outputs": [],
   "source": [
    "# P3. Первинне дослідження даних \n",
    "# T6. Визначте, яка ціна у нас максимальна, мінімальна, середня, медіанна (використовуйте функції max, min, mean, median)"
   ]
  },
  {
   "cell_type": "code",
   "execution_count": null,
   "id": "d7236ef4-4655-4dd9-b26a-64ee3d4d9e28",
   "metadata": {},
   "outputs": [],
   "source": [
    "# P3. Первинне дослідження даних \n",
    "# T7. Максимальна ціна?\n",
    "print(\"Відповідь: \")"
   ]
  },
  {
   "cell_type": "code",
   "execution_count": null,
   "id": "f3620c36-136e-4e86-8137-a35e0ca91c66",
   "metadata": {},
   "outputs": [],
   "source": [
    "# P3. Первинне дослідження даних \n",
    "# T8. Мінімальна ціна?\n",
    "print(\"Відповідь: \")"
   ]
  },
  {
   "cell_type": "code",
   "execution_count": null,
   "id": "a806d685-6c7b-4e07-942a-0f26b01c01ee",
   "metadata": {},
   "outputs": [],
   "source": [
    "# P3. Первинне дослідження даних \n",
    "# T9. Середня ціна?\n",
    "print(\"Відповідь: \")"
   ]
  },
  {
   "cell_type": "code",
   "execution_count": null,
   "id": "af489ae0-09ab-4e12-bc09-4d3b97569841",
   "metadata": {},
   "outputs": [],
   "source": [
    "# P3. Первинне дослідження даних \n",
    "# T10. Медіанна ціна?\n",
    "print(\"Відповідь: \")"
   ]
  },
  {
   "cell_type": "code",
   "execution_count": null,
   "id": "47f99221-4eae-424f-81e6-2367abd164bd",
   "metadata": {},
   "outputs": [],
   "source": []
  },
  {
   "cell_type": "code",
   "execution_count": null,
   "id": "f68c71e9-67d7-41be-b818-b4e53e27aaaa",
   "metadata": {},
   "outputs": [],
   "source": []
  },
  {
   "cell_type": "code",
   "execution_count": null,
   "id": "e4c3db47-78f8-4197-ab75-3f8b417a3d3e",
   "metadata": {},
   "outputs": [],
   "source": []
  },
  {
   "cell_type": "code",
   "execution_count": null,
   "id": "509f29f4-fcce-4f25-997a-4391967b2bdb",
   "metadata": {},
   "outputs": [],
   "source": []
  }
 ],
 "metadata": {
  "kernelspec": {
   "display_name": "Python 3 (ipykernel)",
   "language": "python",
   "name": "python3"
  },
  "language_info": {
   "codemirror_mode": {
    "name": "ipython",
    "version": 3
   },
   "file_extension": ".py",
   "mimetype": "text/x-python",
   "name": "python",
   "nbconvert_exporter": "python",
   "pygments_lexer": "ipython3",
   "version": "3.12.0"
  }
 },
 "nbformat": 4,
 "nbformat_minor": 5
}

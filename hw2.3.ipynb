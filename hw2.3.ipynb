{
 "cells": [
  {
   "cell_type": "code",
   "execution_count": 2,
   "id": "5461fd6f-05eb-4f96-8d68-9845b1a815f7",
   "metadata": {},
   "outputs": [],
   "source": [
    "%matplotlib inline\n",
    "\n",
    "import numpy as np\n",
    "import pandas as pd\n",
    "import matplotlib.pyplot as plt\n",
    "import seaborn as sns"
   ]
  },
  {
   "cell_type": "code",
   "execution_count": 3,
   "id": "0d629789-1cc8-4237-8a47-3727384eb6c0",
   "metadata": {},
   "outputs": [],
   "source": [
    "# P3 T1.1 Прочитайте csv файл (використовуйте функцію read_csv)\n",
    "table = pd.read_csv(\"bestsellers_with_categories.csv\")"
   ]
  },
  {
   "cell_type": "code",
   "execution_count": 4,
   "id": "9a1c9b31-db51-4e08-89b7-f0a19004e15a",
   "metadata": {},
   "outputs": [
    {
     "data": {
      "text/html": [
       "<div>\n",
       "<style scoped>\n",
       "    .dataframe tbody tr th:only-of-type {\n",
       "        vertical-align: middle;\n",
       "    }\n",
       "\n",
       "    .dataframe tbody tr th {\n",
       "        vertical-align: top;\n",
       "    }\n",
       "\n",
       "    .dataframe thead th {\n",
       "        text-align: right;\n",
       "    }\n",
       "</style>\n",
       "<table border=\"1\" class=\"dataframe\">\n",
       "  <thead>\n",
       "    <tr style=\"text-align: right;\">\n",
       "      <th></th>\n",
       "      <th>Name</th>\n",
       "      <th>Author</th>\n",
       "      <th>User Rating</th>\n",
       "      <th>Reviews</th>\n",
       "      <th>Price</th>\n",
       "      <th>Year</th>\n",
       "      <th>Genre</th>\n",
       "    </tr>\n",
       "  </thead>\n",
       "  <tbody>\n",
       "    <tr>\n",
       "      <th>0</th>\n",
       "      <td>10-Day Green Smoothie Cleanse</td>\n",
       "      <td>JJ Smith</td>\n",
       "      <td>4.7</td>\n",
       "      <td>17350</td>\n",
       "      <td>8</td>\n",
       "      <td>2016</td>\n",
       "      <td>Non Fiction</td>\n",
       "    </tr>\n",
       "    <tr>\n",
       "      <th>1</th>\n",
       "      <td>11/22/63: A Novel</td>\n",
       "      <td>Stephen King</td>\n",
       "      <td>4.6</td>\n",
       "      <td>2052</td>\n",
       "      <td>22</td>\n",
       "      <td>2011</td>\n",
       "      <td>Fiction</td>\n",
       "    </tr>\n",
       "    <tr>\n",
       "      <th>2</th>\n",
       "      <td>12 Rules for Life: An Antidote to Chaos</td>\n",
       "      <td>Jordan B. Peterson</td>\n",
       "      <td>4.7</td>\n",
       "      <td>18979</td>\n",
       "      <td>15</td>\n",
       "      <td>2018</td>\n",
       "      <td>Non Fiction</td>\n",
       "    </tr>\n",
       "    <tr>\n",
       "      <th>3</th>\n",
       "      <td>1984 (Signet Classics)</td>\n",
       "      <td>George Orwell</td>\n",
       "      <td>4.7</td>\n",
       "      <td>21424</td>\n",
       "      <td>6</td>\n",
       "      <td>2017</td>\n",
       "      <td>Fiction</td>\n",
       "    </tr>\n",
       "    <tr>\n",
       "      <th>4</th>\n",
       "      <td>5,000 Awesome Facts (About Everything!) (Natio...</td>\n",
       "      <td>National Geographic Kids</td>\n",
       "      <td>4.8</td>\n",
       "      <td>7665</td>\n",
       "      <td>12</td>\n",
       "      <td>2019</td>\n",
       "      <td>Non Fiction</td>\n",
       "    </tr>\n",
       "  </tbody>\n",
       "</table>\n",
       "</div>"
      ],
      "text/plain": [
       "                                                Name  \\\n",
       "0                      10-Day Green Smoothie Cleanse   \n",
       "1                                  11/22/63: A Novel   \n",
       "2            12 Rules for Life: An Antidote to Chaos   \n",
       "3                             1984 (Signet Classics)   \n",
       "4  5,000 Awesome Facts (About Everything!) (Natio...   \n",
       "\n",
       "                     Author  User Rating  Reviews  Price  Year        Genre  \n",
       "0                  JJ Smith          4.7    17350      8  2016  Non Fiction  \n",
       "1              Stephen King          4.6     2052     22  2011      Fiction  \n",
       "2        Jordan B. Peterson          4.7    18979     15  2018  Non Fiction  \n",
       "3             George Orwell          4.7    21424      6  2017      Fiction  \n",
       "4  National Geographic Kids          4.8     7665     12  2019  Non Fiction  "
      ]
     },
     "execution_count": 4,
     "metadata": {},
     "output_type": "execute_result"
    }
   ],
   "source": [
    "# P3 T1.2 Виведіть перші п'ять рядків (використовується функція head)\n",
    "table.head()"
   ]
  },
  {
   "cell_type": "code",
   "execution_count": 5,
   "id": "d1da0089-8b82-4391-bad9-5c3ad8148e35",
   "metadata": {},
   "outputs": [
    {
     "data": {
      "text/plain": [
       "(550, 7)"
      ]
     },
     "execution_count": 5,
     "metadata": {},
     "output_type": "execute_result"
    }
   ],
   "source": [
    "# P3 T1.3 Виведіть розміри датасету (використовуйте атрибут shape)\n",
    "table.shape"
   ]
  },
  {
   "cell_type": "code",
   "execution_count": 6,
   "id": "daff7d99-1fed-4e71-b7db-d07774d96e2d",
   "metadata": {},
   "outputs": [
    {
     "name": "stdout",
     "output_type": "stream",
     "text": [
      "Відповідь: 550 книг\n"
     ]
    }
   ],
   "source": [
    "# P3 T1.4 Про скільки книг зберігає дані датасет?\n",
    "print(\"Відповідь: 550 книг\")"
   ]
  },
  {
   "cell_type": "code",
   "execution_count": 7,
   "id": "b0eba0a6-6b33-4aa6-babd-e55677c61f68",
   "metadata": {},
   "outputs": [],
   "source": [
    "# P3 T1.5 Зніма назв колонок\n",
    "table.columns = ['name', 'author', 'user_rating', 'reviews', 'price', 'year', 'genre']\n",
    "# table.head()"
   ]
  },
  {
   "cell_type": "code",
   "execution_count": 32,
   "id": "a16c6de9-f251-472f-909f-9801d0adc9bd",
   "metadata": {},
   "outputs": [],
   "source": [
    "\n",
    "# P3. Первинне дослідження даних \n"
   ]
  },
  {
   "cell_type": "code",
   "execution_count": 8,
   "id": "adc4cb09-f8cc-4218-be5d-622c282be28a",
   "metadata": {},
   "outputs": [
    {
     "data": {
      "text/plain": [
       "name           0.0\n",
       "author         0.0\n",
       "user_rating    0.0\n",
       "reviews        0.0\n",
       "price          0.0\n",
       "year           0.0\n",
       "genre          0.0\n",
       "dtype: float64"
      ]
     },
     "execution_count": 8,
     "metadata": {},
     "output_type": "execute_result"
    }
   ],
   "source": [
    "# P3. Первинне дослідження даних\n",
    "# T1. Перевірте, чи у всіх рядків вистачає даних: виведіть кількість пропусків (na) у кожному зі стовпців (використовуйте функції isna та sum)\n",
    "table.isnull().sum()/table.shape[0]"
   ]
  },
  {
   "cell_type": "code",
   "execution_count": 9,
   "id": "21ae5495-2cb3-4ea4-9ac9-27d17eda82d3",
   "metadata": {},
   "outputs": [
    {
     "name": "stdout",
     "output_type": "stream",
     "text": [
      "Відповідь: Ні\n"
     ]
    }
   ],
   "source": [
    "# P3. Первинне дослідження даних \n",
    "# T2. Чи є в якихось змінних пропуски?\n",
    "print(\"Відповідь: Ні\")"
   ]
  },
  {
   "cell_type": "code",
   "execution_count": 10,
   "id": "be46673e-1d51-40bc-a922-531e3d040507",
   "metadata": {},
   "outputs": [
    {
     "data": {
      "text/plain": [
       "array(['Non Fiction', 'Fiction'], dtype=object)"
      ]
     },
     "execution_count": 10,
     "metadata": {},
     "output_type": "execute_result"
    }
   ],
   "source": [
    "# P3. Первинне дослідження даних \n",
    "# T3. Перевірте, які є унікальні значення в колонці genre (використовуйте функцію unique)\n",
    "table[\"genre\"].unique()"
   ]
  },
  {
   "cell_type": "code",
   "execution_count": 11,
   "id": "6c824493-5a38-4e4a-948b-6fd6e5659946",
   "metadata": {},
   "outputs": [
    {
     "name": "stdout",
     "output_type": "stream",
     "text": [
      "Відповідь: 'Non Fiction', 'Fiction'\n"
     ]
    }
   ],
   "source": [
    "# P3. Первинне дослідження даних \n",
    "# T4. Які є унікальні жанри?\n",
    "print(\"Відповідь: 'Non Fiction', 'Fiction'\")"
   ]
  },
  {
   "cell_type": "code",
   "execution_count": 23,
   "id": "d8391a9e-4c79-4f1c-af13-f481339dc93d",
   "metadata": {},
   "outputs": [
    {
     "data": {
      "text/plain": [
       "<Axes: ylabel='Frequency'>"
      ]
     },
     "execution_count": 23,
     "metadata": {},
     "output_type": "execute_result"
    },
    {
     "data": {
      "image/png": "[encoded data removed]",
      "text/plain": [
       "<Figure size 640x480 with 1 Axes>"
      ]
     },
     "metadata": {},
     "output_type": "display_data"
    }
   ],
   "source": [
    "# P3. Первинне дослідження даних \n",
    "# T5. Тепер подивіться на розподіл цін: побудуйте діаграму (використовуйте kind='hist')\n",
    "graph = table['price'].plot(kind=\"hist\",\n",
    "                            grid=True\n",
    "                           )\n",
    "graph"
   ]
  },
  {
   "cell_type": "code",
   "execution_count": 25,
   "id": "f6a9721f-2a7c-4a56-be4a-369f3e057691",
   "metadata": {},
   "outputs": [],
   "source": [
    "# P3. Первинне дослідження даних \n",
    "# T6. Визначте, яка ціна у нас максимальна, мінімальна, середня, медіанна (використовуйте функції max, min, mean, median)\n",
    "max_price = table['price'].max()\n",
    "min_price = table['price'].min()\n",
    "mean_price = table['price'].mean()\n",
    "median_price = table['price'].median()"
   ]
  },
  {
   "cell_type": "code",
   "execution_count": 28,
   "id": "d7236ef4-4655-4dd9-b26a-64ee3d4d9e28",
   "metadata": {},
   "outputs": [
    {
     "name": "stdout",
     "output_type": "stream",
     "text": [
      "Відповідь: Максимальна ціна - 105 USD\n"
     ]
    }
   ],
   "source": [
    "# P3. Первинне дослідження даних \n",
    "# T7. Максимальна ціна?\n",
    "print(f\"Відповідь: Максимальна ціна - {max_price} USD\")"
   ]
  },
  {
   "cell_type": "code",
   "execution_count": 27,
   "id": "f3620c36-136e-4e86-8137-a35e0ca91c66",
   "metadata": {},
   "outputs": [
    {
     "name": "stdout",
     "output_type": "stream",
     "text": [
      "Відповідь: Мінімальна ціна - 0 USD\n"
     ]
    }
   ],
   "source": [
    "# P3. Первинне дослідження даних \n",
    "# T8. Мінімальна ціна?\n",
    "print(f\"Відповідь: Мінімальна ціна - {min_price} USD\")"
   ]
  },
  {
   "cell_type": "code",
   "execution_count": 29,
   "id": "a806d685-6c7b-4e07-942a-0f26b01c01ee",
   "metadata": {},
   "outputs": [
    {
     "name": "stdout",
     "output_type": "stream",
     "text": [
      "Відповідь: Середня ціна - 13.1 USD\n"
     ]
    }
   ],
   "source": [
    "# P3. Первинне дослідження даних \n",
    "# T9. Середня ціна?\n",
    "print(f\"Відповідь: Середня ціна - {mean_price} USD\")"
   ]
  },
  {
   "cell_type": "code",
   "execution_count": 30,
   "id": "af489ae0-09ab-4e12-bc09-4d3b97569841",
   "metadata": {},
   "outputs": [
    {
     "name": "stdout",
     "output_type": "stream",
     "text": [
      "Відповідь: Медіанна ціна - 11.0 USD\n"
     ]
    }
   ],
   "source": [
    "# P3. Первинне дослідження даних \n",
    "# T10. Медіанна ціна?\n",
    "print(f\"Відповідь: Медіанна ціна - {median_price} USD\")"
   ]
  },
  {
   "cell_type": "code",
   "execution_count": null,
   "id": "47f99221-4eae-424f-81e6-2367abd164bd",
   "metadata": {},
   "outputs": [],
   "source": [
    "\n",
    "# P3. Пошук та сортування даних\n"
   ]
  },
  {
   "cell_type": "code",
   "execution_count": 33,
   "id": "f68c71e9-67d7-41be-b818-b4e53e27aaaa",
   "metadata": {},
   "outputs": [
    {
     "name": "stdout",
     "output_type": "stream",
     "text": [
      "Відповідь: найвищий рейтинг - 4.9\n"
     ]
    }
   ],
   "source": [
    "# P3. Пошук та сортування даних\n",
    "# T1. Який рейтинг у датасеті найвищий?\n",
    "user_rating_max = table['user_rating'].max()\n",
    "print(f\"Відповідь: найвищий рейтинг - {user_rating_max}\")"
   ]
  },
  {
   "cell_type": "code",
   "execution_count": 62,
   "id": "e4c3db47-78f8-4197-ab75-3f8b417a3d3e",
   "metadata": {},
   "outputs": [
    {
     "name": "stdout",
     "output_type": "stream",
     "text": [
      "Відповідь: Кількість книг з максимальним рейтингом - 52\n"
     ]
    }
   ],
   "source": [
    "# P3. Пошук та сортування даних\n",
    "# T2. Скільки книг мають такий рейтинг?\n",
    "books_max_rating = table[table['user_rating'] == table['user_rating'].max()].shape\n",
    "result = books_max_rating[0]\n",
    "print(f\"Відповідь: Кількість книг з максимальним рейтингом - {result}\")"
   ]
  },
  {
   "cell_type": "code",
   "execution_count": 65,
   "id": "509f29f4-fcce-4f25-997a-4391967b2bdb",
   "metadata": {},
   "outputs": [
    {
     "name": "stdout",
     "output_type": "stream",
     "text": [
      "Відповідь: книга з найбільшою кількістю відгуків - 534    Where the Crawdads Sing\n",
      "Name: name, dtype: object\n"
     ]
    }
   ],
   "source": [
    "# P3. Пошук та сортування даних\n",
    "# T3. Яка книга має найбільше відгуків?\n",
    "max_reviews = table[table['reviews'] == table['reviews'].max()][\"name\"]\n",
    "print(f\"Відповідь: книга з найбільшою кількістю відгуків - {max_reviews}\")"
   ]
  },
  {
   "cell_type": "code",
   "execution_count": 73,
   "id": "d31a7b2b-c01a-4aee-817d-52ff56937ff2",
   "metadata": {},
   "outputs": [
    {
     "name": "stdout",
     "output_type": "stream",
     "text": [
      "Відповідь: найдорожча книга у 2015 році - 277    Publication Manual of the American Psychologic...\n",
      "Name: name, dtype: object\n"
     ]
    }
   ],
   "source": [
    "# P3. Пошук та сортування даних\n",
    "# T4. З тих книг, що потрапили до Топ-50 у 2015 році, яка книга найдорожча (можна використати проміжний датафрейм)?\n",
    "top50_2015 = table[table[\"year\"] == 2015]\n",
    "book_max_price_2015 = top50_2015[top50_2015['price'] == top50_2015['price'].max()]['name']\n",
    "print(f\"Відповідь: найдорожча книга у 2015 році - {book_max_price_2015}\")"
   ]
  },
  {
   "cell_type": "code",
   "execution_count": 79,
   "id": "7dea0583-15fa-4671-93c6-38faff0cd23f",
   "metadata": {},
   "outputs": [
    {
     "name": "stdout",
     "output_type": "stream",
     "text": [
      "Відповідь: до рейтингу Топ-50 за 2010 рік потрапило книг жанру Fiction - 20\n"
     ]
    }
   ],
   "source": [
    "# P3. Пошук та сортування даних\n",
    "# T5. Скільки книг жанру Fiction потрапили до Топ-50 у 2010 році (використовуйте &)?\n",
    "books_fiction_2010 = table[(table[\"genre\"] == 'Fiction') & (table[\"year\"] == 2010)].shape\n",
    "print(f\"Відповідь: до рейтингу Топ-50 за 2010 рік потрапило книг жанру Fiction - {books_fiction_2010[0]}\")"
   ]
  },
  {
   "cell_type": "code",
   "execution_count": 108,
   "id": "977f43aa-3599-4a12-81a0-413cbe86fa2b",
   "metadata": {},
   "outputs": [
    {
     "name": "stdout",
     "output_type": "stream",
     "text": [
      "Відповідь: до рейтингу Топ-50 за 2010 та 2011 рік потрапило книг з рейтингом 4.9 - 1\n"
     ]
    }
   ],
   "source": [
    "# P3. Пошук та сортування даних\n",
    "# T6. Скільки книг з рейтингом 4.9 потрапило до рейтингу у 2010 та 2011 роках (використовуйте | або функцію isin)?\n",
    "max_rating_in_2010_2011 = table.loc[((table['year'] == 2010)|(table['year'] == 2011))&(table['user_rating'] == 4.9)].shape\n",
    "print(f\"Відповідь: до рейтингу Топ-50 за 2010 та 2011 рік потрапило книг з рейтингом 4.9 - {max_rating_in_2010_2011[0]}\")"
   ]
  },
  {
   "cell_type": "code",
   "execution_count": 111,
   "id": "ef575dff-53cc-4849-a4c9-845f80027dae",
   "metadata": {},
   "outputs": [
    {
     "data": {
      "text/html": [
       "<div>\n",
       "<style scoped>\n",
       "    .dataframe tbody tr th:only-of-type {\n",
       "        vertical-align: middle;\n",
       "    }\n",
       "\n",
       "    .dataframe tbody tr th {\n",
       "        vertical-align: top;\n",
       "    }\n",
       "\n",
       "    .dataframe thead th {\n",
       "        text-align: right;\n",
       "    }\n",
       "</style>\n",
       "<table border=\"1\" class=\"dataframe\">\n",
       "  <thead>\n",
       "    <tr style=\"text-align: right;\">\n",
       "      <th></th>\n",
       "      <th>name</th>\n",
       "      <th>author</th>\n",
       "      <th>user_rating</th>\n",
       "      <th>reviews</th>\n",
       "      <th>price</th>\n",
       "      <th>year</th>\n",
       "      <th>genre</th>\n",
       "    </tr>\n",
       "  </thead>\n",
       "  <tbody>\n",
       "    <tr>\n",
       "      <th>507</th>\n",
       "      <td>To Kill a Mockingbird</td>\n",
       "      <td>Harper Lee</td>\n",
       "      <td>4.8</td>\n",
       "      <td>26234</td>\n",
       "      <td>0</td>\n",
       "      <td>2015</td>\n",
       "      <td>Fiction</td>\n",
       "    </tr>\n",
       "    <tr>\n",
       "      <th>210</th>\n",
       "      <td>Laugh-Out-Loud Jokes for Kids</td>\n",
       "      <td>Rob Elliott</td>\n",
       "      <td>4.6</td>\n",
       "      <td>6990</td>\n",
       "      <td>4</td>\n",
       "      <td>2015</td>\n",
       "      <td>Non Fiction</td>\n",
       "    </tr>\n",
       "    <tr>\n",
       "      <th>206</th>\n",
       "      <td>Knock-Knock Jokes for Kids</td>\n",
       "      <td>Rob Elliott</td>\n",
       "      <td>4.5</td>\n",
       "      <td>3673</td>\n",
       "      <td>4</td>\n",
       "      <td>2015</td>\n",
       "      <td>Non Fiction</td>\n",
       "    </tr>\n",
       "    <tr>\n",
       "      <th>111</th>\n",
       "      <td>First 100 Words</td>\n",
       "      <td>Roger Priddy</td>\n",
       "      <td>4.7</td>\n",
       "      <td>17323</td>\n",
       "      <td>4</td>\n",
       "      <td>2015</td>\n",
       "      <td>Non Fiction</td>\n",
       "    </tr>\n",
       "    <tr>\n",
       "      <th>123</th>\n",
       "      <td>Giraffes Can't Dance</td>\n",
       "      <td>Giles Andreae</td>\n",
       "      <td>4.8</td>\n",
       "      <td>14038</td>\n",
       "      <td>4</td>\n",
       "      <td>2015</td>\n",
       "      <td>Fiction</td>\n",
       "    </tr>\n",
       "    <tr>\n",
       "      <th>54</th>\n",
       "      <td>Creative Haven Creative Cats Coloring Book (Ad...</td>\n",
       "      <td>Marjorie Sarnat</td>\n",
       "      <td>4.8</td>\n",
       "      <td>4022</td>\n",
       "      <td>4</td>\n",
       "      <td>2015</td>\n",
       "      <td>Non Fiction</td>\n",
       "    </tr>\n",
       "    <tr>\n",
       "      <th>63</th>\n",
       "      <td>Dear Zoo: A Lift-the-Flap Book</td>\n",
       "      <td>Rod Campbell</td>\n",
       "      <td>4.8</td>\n",
       "      <td>10922</td>\n",
       "      <td>5</td>\n",
       "      <td>2015</td>\n",
       "      <td>Fiction</td>\n",
       "    </tr>\n",
       "    <tr>\n",
       "      <th>89</th>\n",
       "      <td>Dover Creative Haven Art Nouveau Animal Design...</td>\n",
       "      <td>Marty Noble</td>\n",
       "      <td>4.6</td>\n",
       "      <td>2134</td>\n",
       "      <td>5</td>\n",
       "      <td>2015</td>\n",
       "      <td>Non Fiction</td>\n",
       "    </tr>\n",
       "    <tr>\n",
       "      <th>478</th>\n",
       "      <td>The Very Hungry Caterpillar</td>\n",
       "      <td>Eric Carle</td>\n",
       "      <td>4.9</td>\n",
       "      <td>19546</td>\n",
       "      <td>5</td>\n",
       "      <td>2015</td>\n",
       "      <td>Fiction</td>\n",
       "    </tr>\n",
       "    <tr>\n",
       "      <th>201</th>\n",
       "      <td>Killing Reagan: The Violent Assault That Chang...</td>\n",
       "      <td>Bill O'Reilly</td>\n",
       "      <td>4.6</td>\n",
       "      <td>5235</td>\n",
       "      <td>5</td>\n",
       "      <td>2015</td>\n",
       "      <td>Non Fiction</td>\n",
       "    </tr>\n",
       "    <tr>\n",
       "      <th>28</th>\n",
       "      <td>Baby Touch and Feel: Animals</td>\n",
       "      <td>DK</td>\n",
       "      <td>4.6</td>\n",
       "      <td>5360</td>\n",
       "      <td>5</td>\n",
       "      <td>2015</td>\n",
       "      <td>Non Fiction</td>\n",
       "    </tr>\n",
       "    <tr>\n",
       "      <th>224</th>\n",
       "      <td>Love You Forever</td>\n",
       "      <td>Robert Munsch</td>\n",
       "      <td>4.8</td>\n",
       "      <td>18613</td>\n",
       "      <td>5</td>\n",
       "      <td>2015</td>\n",
       "      <td>Fiction</td>\n",
       "    </tr>\n",
       "    <tr>\n",
       "      <th>55</th>\n",
       "      <td>Creative Haven Owls Coloring Book (Adult Color...</td>\n",
       "      <td>Marjorie Sarnat</td>\n",
       "      <td>4.8</td>\n",
       "      <td>3871</td>\n",
       "      <td>5</td>\n",
       "      <td>2015</td>\n",
       "      <td>Non Fiction</td>\n",
       "    </tr>\n",
       "    <tr>\n",
       "      <th>17</th>\n",
       "      <td>Adult Coloring Book: Stress Relieving Patterns</td>\n",
       "      <td>Blue Star Coloring</td>\n",
       "      <td>4.4</td>\n",
       "      <td>2951</td>\n",
       "      <td>6</td>\n",
       "      <td>2015</td>\n",
       "      <td>Non Fiction</td>\n",
       "    </tr>\n",
       "    <tr>\n",
       "      <th>376</th>\n",
       "      <td>The Four Agreements: A Practical Guide to Pers...</td>\n",
       "      <td>Don Miguel Ruiz</td>\n",
       "      <td>4.7</td>\n",
       "      <td>23308</td>\n",
       "      <td>6</td>\n",
       "      <td>2015</td>\n",
       "      <td>Non Fiction</td>\n",
       "    </tr>\n",
       "    <tr>\n",
       "      <th>16</th>\n",
       "      <td>Adult Coloring Book: Stress Relieving Animal D...</td>\n",
       "      <td>Blue Star Coloring</td>\n",
       "      <td>4.6</td>\n",
       "      <td>2925</td>\n",
       "      <td>6</td>\n",
       "      <td>2015</td>\n",
       "      <td>Non Fiction</td>\n",
       "    </tr>\n",
       "    <tr>\n",
       "      <th>253</th>\n",
       "      <td>Old School (Diary of a Wimpy Kid #10)</td>\n",
       "      <td>Jeff Kinney</td>\n",
       "      <td>4.8</td>\n",
       "      <td>6169</td>\n",
       "      <td>7</td>\n",
       "      <td>2015</td>\n",
       "      <td>Fiction</td>\n",
       "    </tr>\n",
       "  </tbody>\n",
       "</table>\n",
       "</div>"
      ],
      "text/plain": [
       "                                                  name              author  \\\n",
       "507                              To Kill a Mockingbird          Harper Lee   \n",
       "210                      Laugh-Out-Loud Jokes for Kids         Rob Elliott   \n",
       "206                         Knock-Knock Jokes for Kids         Rob Elliott   \n",
       "111                                    First 100 Words        Roger Priddy   \n",
       "123                               Giraffes Can't Dance       Giles Andreae   \n",
       "54   Creative Haven Creative Cats Coloring Book (Ad...     Marjorie Sarnat   \n",
       "63                      Dear Zoo: A Lift-the-Flap Book        Rod Campbell   \n",
       "89   Dover Creative Haven Art Nouveau Animal Design...         Marty Noble   \n",
       "478                        The Very Hungry Caterpillar          Eric Carle   \n",
       "201  Killing Reagan: The Violent Assault That Chang...       Bill O'Reilly   \n",
       "28                        Baby Touch and Feel: Animals                  DK   \n",
       "224                                   Love You Forever       Robert Munsch   \n",
       "55   Creative Haven Owls Coloring Book (Adult Color...     Marjorie Sarnat   \n",
       "17      Adult Coloring Book: Stress Relieving Patterns  Blue Star Coloring   \n",
       "376  The Four Agreements: A Practical Guide to Pers...     Don Miguel Ruiz   \n",
       "16   Adult Coloring Book: Stress Relieving Animal D...  Blue Star Coloring   \n",
       "253              Old School (Diary of a Wimpy Kid #10)         Jeff Kinney   \n",
       "\n",
       "     user_rating  reviews  price  year        genre  \n",
       "507          4.8    26234      0  2015      Fiction  \n",
       "210          4.6     6990      4  2015  Non Fiction  \n",
       "206          4.5     3673      4  2015  Non Fiction  \n",
       "111          4.7    17323      4  2015  Non Fiction  \n",
       "123          4.8    14038      4  2015      Fiction  \n",
       "54           4.8     4022      4  2015  Non Fiction  \n",
       "63           4.8    10922      5  2015      Fiction  \n",
       "89           4.6     2134      5  2015  Non Fiction  \n",
       "478          4.9    19546      5  2015      Fiction  \n",
       "201          4.6     5235      5  2015  Non Fiction  \n",
       "28           4.6     5360      5  2015  Non Fiction  \n",
       "224          4.8    18613      5  2015      Fiction  \n",
       "55           4.8     3871      5  2015  Non Fiction  \n",
       "17           4.4     2951      6  2015  Non Fiction  \n",
       "376          4.7    23308      6  2015  Non Fiction  \n",
       "16           4.6     2925      6  2015  Non Fiction  \n",
       "253          4.8     6169      7  2015      Fiction  "
      ]
     },
     "execution_count": 111,
     "metadata": {},
     "output_type": "execute_result"
    }
   ],
   "source": [
    "# P3. Пошук та сортування даних\n",
    "# T7. І насамкінець, давайте відсортуємо за зростанням ціни всі книги, які потрапили до рейтингу в 2015 році \n",
    "    # і коштують дешевше за 8 доларів (використовуйте функцію sort_values).\n",
    "\n",
    "sorted_table = top50_2015[top50_2015['price'] < 8].sort_values('price')\n",
    "sorted_table"
   ]
  },
  {
   "cell_type": "code",
   "execution_count": 120,
   "id": "6bb12e9f-a7b2-42cf-a8f3-d445c87fa5f3",
   "metadata": {},
   "outputs": [
    {
     "name": "stdout",
     "output_type": "stream",
     "text": [
      "Відповідь: остання книга у рейтингу за 2015 із ціною дешевше за 8 доларів - 253    Old School (Diary of a Wimpy Kid #10)\n",
      "Name: name, dtype: object\n"
     ]
    }
   ],
   "source": [
    "# P3. Пошук та сортування даних\n",
    "# T8. Яка книга остання у відсортованому списку?\n",
    "# last_book = table.iloc[253]['name']\n",
    "# print(f\"Відповідь: остання книга у рейтингу за 2015 із ціною дешевше за 8 доларів - {last_book}\")\n",
    "\n",
    "last = sorted_table.tail(1)['name']\n",
    "print(f\"Відповідь: остання книга у рейтингу за 2015 із ціною дешевше за 8 доларів - {last}\")"
   ]
  },
  {
   "cell_type": "code",
   "execution_count": 4,
   "id": "ed0f5162-9cf3-406d-80b6-3c56436c12d2",
   "metadata": {},
   "outputs": [],
   "source": [
    "\n",
    "## P3. Агрегування даних та з'єднання таблиць \n"
   ]
  },
  {
   "cell_type": "code",
   "execution_count": null,
   "id": "2f13009b-6442-4fec-9484-c74336811ba0",
   "metadata": {},
   "outputs": [],
   "source": [
    "# P3. Агрегування даних та з'єднання таблиць\n",
    "# T1. Для початку давайте подивимося на максимальну та мінімальну ціни для кожного з жанрів \n",
    "      # (використовуйте функції groupby та agg, для підрахунку мінімальних та максимальних значень використовуйте max та min). \n",
    "      # Не беріть усі стовпці, виберіть тільки потрібні вам\n",
    "some_new_df = None"
   ]
  },
  {
   "cell_type": "code",
   "execution_count": null,
   "id": "9f985a68-a313-4c10-8cf0-88a8d9b85b32",
   "metadata": {},
   "outputs": [],
   "source": [
    "# P3. Агрегування даних та з'єднання таблиць \n",
    "# T2. Максимальна ціна для жанру Fiction?\n",
    "answer = None\n",
    "print(f\"Відповідь: {answer}\")"
   ]
  },
  {
   "cell_type": "code",
   "execution_count": null,
   "id": "b8771759-ffc6-4dc5-abad-5f11223c26ba",
   "metadata": {},
   "outputs": [],
   "source": [
    "# P3. Агрегування даних та з'єднання таблиць \n",
    "# T3. Мінімальна ціна для жанру Fiction?\n",
    "answer = None\n",
    "print(f\"Відповідь: {answer}\")"
   ]
  },
  {
   "cell_type": "code",
   "execution_count": null,
   "id": "8f6344f2-1bbe-4b3a-9669-78f45e81b93b",
   "metadata": {},
   "outputs": [],
   "source": [
    "# P3. Агрегування даних та з'єднання таблиць \n",
    "# T4. Максимальна ціна для жанру Non Fiction?\n",
    "answer = None\n",
    "print(f\"Відповідь: {answer}\")"
   ]
  },
  {
   "cell_type": "code",
   "execution_count": null,
   "id": "f31c9104-4f6c-426f-92ac-fc75afb4d1ff",
   "metadata": {},
   "outputs": [],
   "source": [
    "# P3. Агрегування даних та з'єднання таблиць \n",
    "# T5. Мінімальна ціна для жанру Non Fiction?\n",
    "answer = None\n",
    "print(f\"Відповідь: {answer}\")"
   ]
  },
  {
   "cell_type": "code",
   "execution_count": null,
   "id": "a983cf10-6ddd-479c-8e1b-cdadba9dda36",
   "metadata": {},
   "outputs": [],
   "source": [
    "# P3. Агрегування даних та з'єднання таблиць \n",
    "# T6. Тепер створіть новий датафрейм, який вміщатиме кількість книг для кожного з авторів \n",
    "        # (використовуйте функції groupby та agg, для підрахунку кількості використовуйте count). \n",
    "        # Не беріть усі стовпці, виберете тільки потрібні\n",
    "some_new_df_1 = None\n"
   ]
  },
  {
   "cell_type": "code",
   "execution_count": null,
   "id": "86806c9c-e096-4d23-9db6-964d5128d2c7",
   "metadata": {},
   "outputs": [],
   "source": [
    "# P3. Агрегування даних та з'єднання таблиць \n",
    "# T7. Якої розмірності вийшла таблиця?\n",
    "answer = None\n",
    "print(f\"Відповідь: {answer}\")"
   ]
  },
  {
   "cell_type": "code",
   "execution_count": null,
   "id": "50e0bb76-d93e-4b02-b4f7-95af00531b60",
   "metadata": {},
   "outputs": [],
   "source": [
    "# P3. Агрегування даних та з'єднання таблиць \n",
    "# T8. Який автор має найбільше книг?\n",
    "answer = None\n",
    "print(f\"Відповідь: {answer}\")"
   ]
  },
  {
   "cell_type": "code",
   "execution_count": null,
   "id": "4dd1c318-72c2-4097-ba6d-9a2b81f95733",
   "metadata": {},
   "outputs": [],
   "source": [
    "# P3. Агрегування даних та з'єднання таблиць \n",
    "# T9. Скільки книг цього автора?\n",
    "answer = None\n",
    "print(f\"Відповідь: {answer}\")"
   ]
  },
  {
   "cell_type": "code",
   "execution_count": null,
   "id": "fb4e2838-55ef-4564-88f7-01b625d76845",
   "metadata": {},
   "outputs": [],
   "source": [
    "# P3. Агрегування даних та з'єднання таблиць \n",
    "# T10. Тепер створіть другий датафрейм, який буде вміщати середній рейтинг для кожного автора \n",
    "        # (використовуйте функції groupby та agg, для підрахунку середнього значення використовуйте mean). \n",
    "        # Не беріть усі стовпці, виберете тільки потрібні\n",
    "some_new_df_2 = None"
   ]
  },
  {
   "cell_type": "code",
   "execution_count": null,
   "id": "d9914f20-90c6-463d-8a17-1d34e19948da",
   "metadata": {},
   "outputs": [],
   "source": [
    "# P3. Агрегування даних та з'єднання таблиць \n",
    "# T11. У якого автора середній рейтинг мінімальний?\n",
    "answer = None\n",
    "print(f\"Відповідь: {answer}\")"
   ]
  },
  {
   "cell_type": "code",
   "execution_count": null,
   "id": "5fee6543-6eb9-4eaa-90cb-ec514d168936",
   "metadata": {},
   "outputs": [],
   "source": [
    "# P3. Агрегування даних та з'єднання таблиць \n",
    "# T12. Який у цього автора середній рейтинг?\n",
    "answer = None\n",
    "print(f\"Відповідь: {answer}\")"
   ]
  },
  {
   "cell_type": "code",
   "execution_count": null,
   "id": "7ed6277f-5156-496e-a398-0db7a754e271",
   "metadata": {},
   "outputs": [],
   "source": [
    "# P3. Агрегування даних та з'єднання таблиць \n",
    "# T13. З'єднайте останні два датафрейми так, щоб для кожного автора було видно кількість книг та середній рейтинг \n",
    "        # (Використовуйте функцію concat з параметром axis=1). \n",
    "        # Збережіть результат у змінну\n",
    "some_new_df_3 = None"
   ]
  },
  {
   "cell_type": "code",
   "execution_count": null,
   "id": "49547b39-d06c-4ef5-8c82-c6575cc33a02",
   "metadata": {},
   "outputs": [],
   "source": [
    "# P3. Агрегування даних та з'єднання таблиць \n",
    "# T14. Відсортуйте датафрейм за зростаючою кількістю книг та зростаючим рейтингом (використовуйте функцію sort_values)\n",
    "answer = None\n",
    "print(f\"Відповідь: {answer}\")"
   ]
  },
  {
   "cell_type": "code",
   "execution_count": 1,
   "id": "23bc398f-1df3-43bc-a9fb-b3bc19284792",
   "metadata": {},
   "outputs": [],
   "source": [
    "# P3. Агрегування даних та з'єднання таблиць \n",
    "# T15. Який автор перший у списку?\n",
    "answer = None\n",
    "print(f\"Відповідь: {answer}\")"
   ]
  }
 ],
 "metadata": {
  "kernelspec": {
   "display_name": "Python 3 (ipykernel)",
   "language": "python",
   "name": "python3"
  },
  "language_info": {
   "codemirror_mode": {
    "name": "ipython",
    "version": 3
   },
   "file_extension": ".py",
   "mimetype": "text/x-python",
   "name": "python",
   "nbconvert_exporter": "python",
   "pygments_lexer": "ipython3",
   "version": "3.12.0"
  }
 },
 "nbformat": 4,
 "nbformat_minor": 5
}
